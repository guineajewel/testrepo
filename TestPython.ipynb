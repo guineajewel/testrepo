{
    "cells": [
        {
            "metadata": {},
            "cell_type": "code",
            "source": "print(\"my name is Kamal\")",
            "execution_count": 1,
            "outputs": [
                {
                    "output_type": "stream",
                    "text": "my name is Kamal\n",
                    "name": "stdout"
                }
            ]
        },
        {
            "metadata": {},
            "cell_type": "code",
            "source": "x = 1\ny = 10\nprint (x+y)",
            "execution_count": 2,
            "outputs": [
                {
                    "output_type": "stream",
                    "text": "11\n",
                    "name": "stdout"
                }
            ]
        },
        {
            "metadata": {},
            "cell_type": "code",
            "source": "",
            "execution_count": null,
            "outputs": []
        }
    ],
    "metadata": {
        "kernelspec": {
            "name": "python3",
            "display_name": "Python 3.8",
            "language": "python"
        },
        "language_info": {
            "name": "python",
            "version": "3.8.11",
            "mimetype": "text/x-python",
            "codemirror_mode": {
                "name": "ipython",
                "version": 3
            },
            "pygments_lexer": "ipython3",
            "nbconvert_exporter": "python",
            "file_extension": ".py"
        }
    },
    "nbformat": 4,
    "nbformat_minor": 1
}