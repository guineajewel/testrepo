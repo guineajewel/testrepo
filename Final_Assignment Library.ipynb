{
    "cells": [
        {
            "cell_type": "markdown",
            "metadata": {},
            "source": "<center>\n    <img src=\"https://s3-api.us-geo.objectstorage.softlayer.net/cf-courses-data/CognitiveClass/Logos/organization_logo/organization_logo.png\" width=\"300\" alt=\"cognitiveclass.ai logo\"  />\n</center>\n"
        },
        {
            "cell_type": "markdown",
            "metadata": {},
            "source": "<h1>Extracting Stock Data Using a Python Library</h1>\n"
        },
        {
            "cell_type": "markdown",
            "metadata": {},
            "source": "A company's stock share is a piece of the company more precisely:\n\n<p><b>A stock (also known as equity) is a security that represents the ownership\u00a0of a fraction of a\u00a0corporation. This\nentitles the owner of the stock to a proportion of the corporation's\u00a0assets\u00a0and profits equal to how much stock they own.\u00a0Units of stock are called \"shares.\" [1]</p></b>\n\nAn investor can buy a stock and sell it later. If the stock price increases, the investor profits, If it decreases,the investor with incur a loss.\u00a0\u00a0Determining the stock price is complex; it depends on the number of outstanding shares, the size of the company's future profits, and much more. People trade stocks throughout the day the stock ticker\u00a0is a report of the price of a certain stock, updated continuously throughout the trading session by the various\u00a0stock\u00a0market exchanges.\n\n<p>You are a data scientist working for a hedge fund; it's your job to determine any suspicious stock activity. In this lab you will extract stock data using a Python library. We will use the <coode>yfinance</code> library, it allows us to extract data for stocks returning data in a pandas dataframe. You will use the lab to extract.</p>\n"
        },
        {
            "cell_type": "markdown",
            "metadata": {},
            "source": "<h2>Table of Contents</h2>\n<div class=\"alert alert-block alert-info\" style=\"margin-top: 20px\">\n    <ul>\n        <li>Using yfinance to Extract Stock Info</li>\n        <li>Using yfinance to Extract Historical Share Price Data</li>\n        <li>Using yfinance to Extract Historical Dividends Data</li>\n        <li>Exercise</li>\n    </ul>\n<p>\n    Estimated Time Needed: <strong>30 min</strong></p>\n</div>\n\n<hr>\n"
        },
        {
            "cell_type": "code",
            "execution_count": 1,
            "metadata": {},
            "outputs": [
                {
                    "name": "stdout",
                    "output_type": "stream",
                    "text": "Collecting yfinance\n  Downloading yfinance-0.1.63.tar.gz (26 kB)\nRequirement already satisfied: pandas>=0.24 in /opt/conda/envs/Python-3.8-main/lib/python3.8/site-packages (from yfinance) (1.2.4)\nRequirement already satisfied: numpy>=1.15 in /opt/conda/envs/Python-3.8-main/lib/python3.8/site-packages (from yfinance) (1.19.2)\nRequirement already satisfied: requests>=2.20 in /opt/conda/envs/Python-3.8-main/lib/python3.8/site-packages (from yfinance) (2.25.1)\nCollecting multitasking>=0.0.7\n  Downloading multitasking-0.0.9.tar.gz (8.1 kB)\nRequirement already satisfied: lxml>=4.5.1 in /opt/conda/envs/Python-3.8-main/lib/python3.8/site-packages (from yfinance) (4.6.3)\nRequirement already satisfied: python-dateutil>=2.7.3 in /opt/conda/envs/Python-3.8-main/lib/python3.8/site-packages (from pandas>=0.24->yfinance) (2.8.1)\nRequirement already satisfied: pytz>=2017.3 in /opt/conda/envs/Python-3.8-main/lib/python3.8/site-packages (from pandas>=0.24->yfinance) (2021.1)\nRequirement already satisfied: six>=1.5 in /opt/conda/envs/Python-3.8-main/lib/python3.8/site-packages (from python-dateutil>=2.7.3->pandas>=0.24->yfinance) (1.15.0)\nRequirement already satisfied: urllib3<1.27,>=1.21.1 in /opt/conda/envs/Python-3.8-main/lib/python3.8/site-packages (from requests>=2.20->yfinance) (1.26.6)\nRequirement already satisfied: idna<3,>=2.5 in /opt/conda/envs/Python-3.8-main/lib/python3.8/site-packages (from requests>=2.20->yfinance) (2.8)\nRequirement already satisfied: certifi>=2017.4.17 in /opt/conda/envs/Python-3.8-main/lib/python3.8/site-packages (from requests>=2.20->yfinance) (2021.5.30)\nRequirement already satisfied: chardet<5,>=3.0.2 in /opt/conda/envs/Python-3.8-main/lib/python3.8/site-packages (from requests>=2.20->yfinance) (3.0.4)\nBuilding wheels for collected packages: yfinance, multitasking\n  Building wheel for yfinance (setup.py) ... \u001b[?25ldone\n\u001b[?25h  Created wheel for yfinance: filename=yfinance-0.1.63-py2.py3-none-any.whl size=23907 sha256=3d43993d37ded4553393187920bce5b1b1b31ebef268a5004fd0100d83fddbc8\n  Stored in directory: /tmp/wsuser/.cache/pip/wheels/ec/cc/c1/32da8ee853d742d5d7cbd11ee04421222eb354672020b57297\n  Building wheel for multitasking (setup.py) ... \u001b[?25ldone\n\u001b[?25h  Created wheel for multitasking: filename=multitasking-0.0.9-py3-none-any.whl size=8367 sha256=54ac933c51f6f4a416746049fcda40cda4b76404c52882656a29b29e1c942c90\n  Stored in directory: /tmp/wsuser/.cache/pip/wheels/57/6d/a3/a39b839cc75274d2acfb1c58bfead2f726c6577fe8c4723f13\nSuccessfully built yfinance multitasking\nInstalling collected packages: multitasking, yfinance\nSuccessfully installed multitasking-0.0.9 yfinance-0.1.63\n"
                }
            ],
            "source": "!pip install yfinance\n#!pip install pandas"
        },
        {
            "cell_type": "code",
            "execution_count": 2,
            "metadata": {},
            "outputs": [],
            "source": "import yfinance as yf\nimport pandas as pd"
        },
        {
            "cell_type": "markdown",
            "metadata": {},
            "source": "## Using the yfinance Library to Extract Stock Data\n"
        },
        {
            "cell_type": "markdown",
            "metadata": {},
            "source": "Using the `Ticker` module we can create an object that will allow us to access functions to extract data. To do this we need to provide the ticker symbol for the stock, here the company is Apple and the ticker symbol is `AAPL`.\n"
        },
        {
            "cell_type": "code",
            "execution_count": 3,
            "metadata": {},
            "outputs": [],
            "source": "apple = yf.Ticker(\"AAPL\")"
        },
        {
            "cell_type": "markdown",
            "metadata": {},
            "source": "Now we can access functions and variables to extract the type of data we need. You can view them and what they represent here [https://aroussi.com/post/python-yahoo-finance](https://aroussi.com/post/python-yahoo-finance?utm_medium=Exinfluencer&utm_source=Exinfluencer&utm_content=000026UJ&utm_term=10006555&utm_id=NA-SkillsNetwork-Channel-SkillsNetworkCoursesIBMDeveloperSkillsNetworkPY0220ENSkillsNetwork23455606-2021-01-01).\n"
        },
        {
            "cell_type": "markdown",
            "metadata": {},
            "source": "### Stock Info\n"
        },
        {
            "cell_type": "markdown",
            "metadata": {},
            "source": "Using the attribute  <code>info</code> we can extract information about the stock as a Python dictionary.\n"
        },
        {
            "cell_type": "code",
            "execution_count": 4,
            "metadata": {},
            "outputs": [
                {
                    "data": {
                        "text/plain": "{'zip': '95014',\n 'sector': 'Technology',\n 'fullTimeEmployees': 147000,\n 'longBusinessSummary': 'Apple Inc. designs, manufactures, and markets smartphones, personal computers, tablets, wearables, and accessories worldwide. It also sells various related services. The company offers iPhone, a line of smartphones; Mac, a line of personal computers; iPad, a line of multi-purpose tablets; and wearables, home, and accessories comprising AirPods, Apple TV, Apple Watch, Beats products, HomePod, iPod touch, and other Apple-branded and third-party accessories. It also provides AppleCare support services; cloud services store services; and operates various platforms, including the App Store, that allow customers to discover and download applications and digital content, such as books, music, video, games, and podcasts. In addition, the company offers various services, such as Apple Arcade, a game subscription service; Apple Music, which offers users a curated listening experience with on-demand radio stations; Apple News+, a subscription news and magazine service; Apple TV+, which offers exclusive original content; Apple Card, a co-branded credit card; and Apple Pay, a cashless payment service, as well as licenses its intellectual property. The company serves consumers, and small and mid-sized businesses; and the education, enterprise, and government markets. It sells and delivers third-party applications for its products through the App Store. The company also sells its products through its retail and online stores, and direct sales force; and third-party cellular network carriers, wholesalers, retailers, and resellers. Apple Inc. was founded in 1977 and is headquartered in Cupertino, California.',\n 'city': 'Cupertino',\n 'phone': '408-996-1010',\n 'state': 'CA',\n 'country': 'United States',\n 'companyOfficers': [],\n 'website': 'http://www.apple.com',\n 'maxAge': 1,\n 'address1': 'One Apple Park Way',\n 'industry': 'Consumer Electronics',\n 'ebitdaMargins': 0.31955,\n 'profitMargins': 0.25004,\n 'grossMargins': 0.41005,\n 'operatingCashflow': 104414003200,\n 'revenueGrowth': 0.364,\n 'operatingMargins': 0.28788,\n 'ebitda': 110934999040,\n 'targetLowPrice': 132,\n 'recommendationKey': 'buy',\n 'grossProfits': 104956000000,\n 'freeCashflow': 80625876992,\n 'targetMedianPrice': 170,\n 'currentPrice': 147.365,\n 'earningsGrowth': 1,\n 'currentRatio': 1.062,\n 'returnOnAssets': 0.19302,\n 'numberOfAnalystOpinions': 41,\n 'targetMeanPrice': 168.23,\n 'debtToEquity': 210.782,\n 'returnOnEquity': 1.27125,\n 'targetHighPrice': 190,\n 'totalCash': 61696000000,\n 'totalDebt': 135491002368,\n 'totalRevenue': 347155005440,\n 'totalCashPerShare': 3.732,\n 'financialCurrency': 'USD',\n 'revenuePerShare': 20.61,\n 'quickRatio': 0.887,\n 'recommendationMean': 1.9,\n 'exchange': 'NMS',\n 'shortName': 'Apple Inc.',\n 'longName': 'Apple Inc.',\n 'exchangeTimezoneName': 'America/New_York',\n 'exchangeTimezoneShortName': 'EDT',\n 'isEsgPopulated': False,\n 'gmtOffSetMilliseconds': '-14400000',\n 'quoteType': 'EQUITY',\n 'symbol': 'AAPL',\n 'messageBoardId': 'finmb_24937',\n 'market': 'us_market',\n 'annualHoldingsTurnover': None,\n 'enterpriseToRevenue': 7.191,\n 'beta3Year': None,\n 'enterpriseToEbitda': 22.502,\n '52WeekChange': 0.24712789,\n 'morningStarRiskRating': None,\n 'forwardEps': 5.67,\n 'revenueQuarterlyGrowth': None,\n 'sharesOutstanding': 16530199552,\n 'fundInceptionDate': None,\n 'annualReportExpenseRatio': None,\n 'totalAssets': None,\n 'bookValue': 3.882,\n 'sharesShort': 101107412,\n 'sharesPercentSharesOut': 0.0061000003,\n 'fundFamily': None,\n 'lastFiscalYearEnd': 1601078400,\n 'heldPercentInstitutions': 0.58672,\n 'netIncomeToCommon': 86801997824,\n 'trailingEps': 5.108,\n 'lastDividendValue': 0.22,\n 'SandP52WeekChange': 0.30302167,\n 'priceToBook': 37.961105,\n 'heldPercentInsiders': 0.00072999997,\n 'nextFiscalYearEnd': 1664150400,\n 'yield': None,\n 'mostRecentQuarter': 1624665600,\n 'shortRatio': 1.18,\n 'sharesShortPreviousMonthDate': 1630368000,\n 'floatShares': 16512974627,\n 'beta': 1.222222,\n 'enterpriseValue': 2496290881536,\n 'priceHint': 2,\n 'threeYearAverageReturn': None,\n 'lastSplitDate': 1598832000,\n 'lastSplitFactor': '4:1',\n 'legalType': None,\n 'lastDividendDate': 1628208000,\n 'morningStarOverallRating': None,\n 'earningsQuarterlyGrowth': 0.932,\n 'priceToSalesTrailing12Months': 7.01696,\n 'dateShortInterest': 1632960000,\n 'pegRatio': 1.38,\n 'ytdReturn': None,\n 'forwardPE': 25.990301,\n 'lastCapGain': None,\n 'shortPercentOfFloat': 0.0061000003,\n 'sharesShortPriorMonth': 96838699,\n 'impliedSharesOutstanding': None,\n 'category': None,\n 'fiveYearAverageReturn': None,\n 'previousClose': 146.55,\n 'regularMarketOpen': 147.01,\n 'twoHundredDayAverage': 138.93898,\n 'trailingAnnualDividendYield': 0.0056977137,\n 'payoutRatio': 0.16309999,\n 'volume24Hr': None,\n 'regularMarketDayHigh': 147.51,\n 'navPrice': None,\n 'averageDailyVolume10Day': 73218650,\n 'regularMarketPreviousClose': 146.55,\n 'fiftyDayAverage': 146.59572,\n 'trailingAnnualDividendRate': 0.835,\n 'open': 147.01,\n 'toCurrency': None,\n 'averageVolume10days': 73218650,\n 'expireDate': None,\n 'algorithm': None,\n 'dividendRate': 0.88,\n 'exDividendDate': 1628208000,\n 'circulatingSupply': None,\n 'startDate': None,\n 'regularMarketDayLow': 146.55,\n 'currency': 'USD',\n 'trailingPE': 28.849846,\n 'regularMarketVolume': 11622217,\n 'lastMarket': None,\n 'maxSupply': None,\n 'openInterest': None,\n 'marketCap': 2435972857856,\n 'volumeAllCurrencies': None,\n 'strikePrice': None,\n 'averageVolume': 77536093,\n 'dayLow': 146.55,\n 'ask': 146.58,\n 'askSize': 1400,\n 'volume': 11622217,\n 'fiftyTwoWeekHigh': 157.26,\n 'fromCurrency': None,\n 'fiveYearAvgDividendYield': 1.24,\n 'fiftyTwoWeekLow': 107.32,\n 'bid': 146.56,\n 'tradeable': False,\n 'dividendYield': 0.006,\n 'bidSize': 900,\n 'dayHigh': 147.51,\n 'regularMarketPrice': 147.365,\n 'logo_url': 'https://logo.clearbit.com/apple.com'}"
                    },
                    "execution_count": 4,
                    "metadata": {},
                    "output_type": "execute_result"
                }
            ],
            "source": "apple_info=apple.info\napple_info"
        },
        {
            "cell_type": "markdown",
            "metadata": {},
            "source": "We can get the <code>'country'</code> using the key country\n"
        },
        {
            "cell_type": "code",
            "execution_count": 5,
            "metadata": {},
            "outputs": [
                {
                    "data": {
                        "text/plain": "'United States'"
                    },
                    "execution_count": 5,
                    "metadata": {},
                    "output_type": "execute_result"
                }
            ],
            "source": "apple_info['country']"
        },
        {
            "cell_type": "markdown",
            "metadata": {},
            "source": "### Extracting Share Price\n"
        },
        {
            "cell_type": "markdown",
            "metadata": {},
            "source": "A share is the single smallest part of a company's stock  that you can buy, the prices of these shares fluctuate over time. Using the <code>history()</code> method we can get the share price of the stock over a certain period of time. Using the `period` parameter we can set how far back from the present to get data. The options for `period` are 1 day (1d), 5d, 1 month (1mo) , 3mo, 6mo, 1 year (1y), 2y, 5y, 10y, ytd, and max.\n"
        },
        {
            "cell_type": "code",
            "execution_count": 6,
            "metadata": {},
            "outputs": [],
            "source": "apple_share_price_data = apple.history(period=\"max\")"
        },
        {
            "cell_type": "markdown",
            "metadata": {},
            "source": "The format that the data is returned in is a Pandas DataFrame. With the `Date` as the index the share `Open`, `High`, `Low`, `Close`, `Volume`, and `Stock Splits` are given for each day.\n"
        },
        {
            "cell_type": "code",
            "execution_count": 7,
            "metadata": {},
            "outputs": [
                {
                    "data": {
                        "text/html": "<div>\n<style scoped>\n    .dataframe tbody tr th:only-of-type {\n        vertical-align: middle;\n    }\n\n    .dataframe tbody tr th {\n        vertical-align: top;\n    }\n\n    .dataframe thead th {\n        text-align: right;\n    }\n</style>\n<table border=\"1\" class=\"dataframe\">\n  <thead>\n    <tr style=\"text-align: right;\">\n      <th></th>\n      <th>Open</th>\n      <th>High</th>\n      <th>Low</th>\n      <th>Close</th>\n      <th>Volume</th>\n      <th>Dividends</th>\n      <th>Stock Splits</th>\n    </tr>\n    <tr>\n      <th>Date</th>\n      <th></th>\n      <th></th>\n      <th></th>\n      <th></th>\n      <th></th>\n      <th></th>\n      <th></th>\n    </tr>\n  </thead>\n  <tbody>\n    <tr>\n      <th>1980-12-12</th>\n      <td>0.100600</td>\n      <td>0.101037</td>\n      <td>0.100600</td>\n      <td>0.100600</td>\n      <td>469033600</td>\n      <td>0.0</td>\n      <td>0.0</td>\n    </tr>\n    <tr>\n      <th>1980-12-15</th>\n      <td>0.095789</td>\n      <td>0.095789</td>\n      <td>0.095352</td>\n      <td>0.095352</td>\n      <td>175884800</td>\n      <td>0.0</td>\n      <td>0.0</td>\n    </tr>\n    <tr>\n      <th>1980-12-16</th>\n      <td>0.088790</td>\n      <td>0.088790</td>\n      <td>0.088353</td>\n      <td>0.088353</td>\n      <td>105728000</td>\n      <td>0.0</td>\n      <td>0.0</td>\n    </tr>\n    <tr>\n      <th>1980-12-17</th>\n      <td>0.090540</td>\n      <td>0.090977</td>\n      <td>0.090540</td>\n      <td>0.090540</td>\n      <td>86441600</td>\n      <td>0.0</td>\n      <td>0.0</td>\n    </tr>\n    <tr>\n      <th>1980-12-18</th>\n      <td>0.093165</td>\n      <td>0.093602</td>\n      <td>0.093165</td>\n      <td>0.093165</td>\n      <td>73449600</td>\n      <td>0.0</td>\n      <td>0.0</td>\n    </tr>\n  </tbody>\n</table>\n</div>",
                        "text/plain": "                Open      High       Low     Close     Volume  Dividends  \\\nDate                                                                       \n1980-12-12  0.100600  0.101037  0.100600  0.100600  469033600        0.0   \n1980-12-15  0.095789  0.095789  0.095352  0.095352  175884800        0.0   \n1980-12-16  0.088790  0.088790  0.088353  0.088353  105728000        0.0   \n1980-12-17  0.090540  0.090977  0.090540  0.090540   86441600        0.0   \n1980-12-18  0.093165  0.093602  0.093165  0.093165   73449600        0.0   \n\n            Stock Splits  \nDate                      \n1980-12-12           0.0  \n1980-12-15           0.0  \n1980-12-16           0.0  \n1980-12-17           0.0  \n1980-12-18           0.0  "
                    },
                    "execution_count": 7,
                    "metadata": {},
                    "output_type": "execute_result"
                }
            ],
            "source": "apple_share_price_data.head()"
        },
        {
            "cell_type": "markdown",
            "metadata": {},
            "source": "We can reset the index of the DataFrame with the `reset_index` function. We also set the `inplace` paramter to `True` so the change takes place to the DataFrame itself.\n"
        },
        {
            "cell_type": "code",
            "execution_count": 8,
            "metadata": {},
            "outputs": [],
            "source": "apple_share_price_data.reset_index(inplace=True)"
        },
        {
            "cell_type": "markdown",
            "metadata": {},
            "source": "We can plot the `Open` price against the `Date`:\n"
        },
        {
            "cell_type": "code",
            "execution_count": 9,
            "metadata": {},
            "outputs": [
                {
                    "data": {
                        "text/plain": "<AxesSubplot:xlabel='Date'>"
                    },
                    "execution_count": 9,
                    "metadata": {},
                    "output_type": "execute_result"
                },
                {
                    "data": {
                        "image/png": "[encoded data removed]",
                        "text/plain": "<Figure size 432x288 with 1 Axes>"
                    },
                    "metadata": {
                        "needs_background": "light"
                    },
                    "output_type": "display_data"
                }
            ],
            "source": "apple_share_price_data.plot(x=\"Date\", y=\"Open\")"
        },
        {
            "cell_type": "markdown",
            "metadata": {},
            "source": "### Extracting Dividends\n"
        },
        {
            "cell_type": "markdown",
            "metadata": {},
            "source": "Dividends are the distribution of a companys profits to shareholders. In this case they are defined as an amount of money returned per share an investor owns. Using the variable `dividends` we can get a dataframe of the data. The period of the data is given by the period defined in the 'history\\` function.\n"
        },
        {
            "cell_type": "code",
            "execution_count": 10,
            "metadata": {},
            "outputs": [
                {
                    "data": {
                        "text/plain": "Date\n1987-05-11    0.000536\n1987-08-10    0.000536\n1987-11-17    0.000714\n1988-02-12    0.000714\n1988-05-16    0.000714\n                ...   \n2020-08-07    0.205000\n2020-11-06    0.205000\n2021-02-05    0.205000\n2021-05-07    0.220000\n2021-08-06    0.220000\nName: Dividends, Length: 72, dtype: float64"
                    },
                    "execution_count": 10,
                    "metadata": {},
                    "output_type": "execute_result"
                }
            ],
            "source": "apple.dividends"
        },
        {
            "cell_type": "markdown",
            "metadata": {},
            "source": "We can plot the dividends overtime:\n"
        },
        {
            "cell_type": "code",
            "execution_count": 11,
            "metadata": {},
            "outputs": [
                {
                    "data": {
                        "text/plain": "<AxesSubplot:xlabel='Date'>"
                    },
                    "execution_count": 11,
                    "metadata": {},
                    "output_type": "execute_result"
                },
                {
                    "data": {
                        "image/png": "[encoded data removed]",
                        "text/plain": "<Figure size 432x288 with 1 Axes>"
                    },
                    "metadata": {
                        "needs_background": "light"
                    },
                    "output_type": "display_data"
                }
            ],
            "source": "apple.dividends.plot()"
        },
        {
            "cell_type": "markdown",
            "metadata": {},
            "source": "## Exercise\n"
        },
        {
            "cell_type": "markdown",
            "metadata": {},
            "source": "Now using the `Ticker` module create an object for AMD (Advanced Micro Devices) with the ticker symbol is `AMD` called; name the object <code>amd</code>.\n"
        },
        {
            "cell_type": "code",
            "execution_count": 12,
            "metadata": {},
            "outputs": [],
            "source": "amd = yf.Ticker(\"AMD\")"
        },
        {
            "cell_type": "markdown",
            "metadata": {},
            "source": "<b>Question 1</b> Use the key  <code>'country'</code> to find the country the stock belongs to, remember it as it will be a quiz question.\n"
        },
        {
            "cell_type": "code",
            "execution_count": 14,
            "metadata": {},
            "outputs": [
                {
                    "data": {
                        "text/plain": "'United States'"
                    },
                    "execution_count": 14,
                    "metadata": {},
                    "output_type": "execute_result"
                }
            ],
            "source": "amd_info=amd.info\namd_info['country']"
        },
        {
            "cell_type": "markdown",
            "metadata": {},
            "source": "<b>Question 2</b> Use the key  <code>'sector'</code> to find the sector the stock belongs to, remember it as it will be a quiz question.\n"
        },
        {
            "cell_type": "code",
            "execution_count": 15,
            "metadata": {},
            "outputs": [
                {
                    "data": {
                        "text/plain": "'Technology'"
                    },
                    "execution_count": 15,
                    "metadata": {},
                    "output_type": "execute_result"
                }
            ],
            "source": "amd_info['sector']"
        },
        {
            "cell_type": "markdown",
            "metadata": {},
            "source": "<b>Question 3</b> Obtain stock data for AMD using the `history` function, set the `period` to max. Find the `Volume` traded on the first day (first row).\n"
        },
        {
            "cell_type": "code",
            "execution_count": 17,
            "metadata": {},
            "outputs": [
                {
                    "data": {
                        "text/plain": "Date\n1980-03-17      219600\n1980-03-18      727200\n1980-03-19      295200\n1980-03-20      159600\n1980-03-21      130800\n                ...   \n2021-10-13    55631900\n2021-10-14    46900200\n2021-10-15    34177700\n2021-10-18    47423800\n2021-10-19     8481162\nName: Volume, Length: 10489, dtype: int64"
                    },
                    "execution_count": 17,
                    "metadata": {},
                    "output_type": "execute_result"
                }
            ],
            "source": "amd_share_price_data = amd.history(period=\"max\")\n#amd_share_price_data.head()\namd_share_price_data[\"Volume\"]"
        },
        {
            "cell_type": "markdown",
            "metadata": {},
            "source": "<h2>About the Authors:</h2> \n\n<a href=\"https://www.linkedin.com/in/joseph-s-50398b136/?utm_medium=Exinfluencer&utm_source=Exinfluencer&utm_content=000026UJ&utm_term=10006555&utm_id=NA-SkillsNetwork-Channel-SkillsNetworkCoursesIBMDeveloperSkillsNetworkPY0220ENSkillsNetwork23455606-2021-01-01\">Joseph Santarcangelo</a> has a PhD in Electrical Engineering, his research focused on using machine learning, signal processing, and computer vision to determine how videos impact human cognition. Joseph has been working for IBM since he completed his PhD.\n\nAzim Hirjani\n"
        },
        {
            "cell_type": "markdown",
            "metadata": {},
            "source": "## Change Log\n\n| Date (YYYY-MM-DD) | Version | Changed By    | Change Description        |\n| ----------------- | ------- | ------------- | ------------------------- |\n| 2020-11-10        | 1.1     | Malika Singla | Deleted the Optional part |\n| 2020-08-27        | 1.0     | Malika Singla | Added lab to GitLab       |\n\n<hr>\n\n## <h3 align=\"center\"> \u00a9 IBM Corporation 2020. All rights reserved. <h3/>\n\n<p>\n"
        }
    ],
    "metadata": {
        "kernelspec": {
            "display_name": "Python 3.8",
            "language": "python",
            "name": "python3"
        },
        "language_info": {
            "codemirror_mode": {
                "name": "ipython",
                "version": 3
            },
            "file_extension": ".py",
            "mimetype": "text/x-python",
            "name": "python",
            "nbconvert_exporter": "python",
            "pygments_lexer": "ipython3",
            "version": "3.8.11"
        }
    },
    "nbformat": 4,
    "nbformat_minor": 4
}